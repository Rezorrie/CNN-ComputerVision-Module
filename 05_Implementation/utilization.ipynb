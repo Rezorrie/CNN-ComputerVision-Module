{
 "cells": [
  {
   "cell_type": "markdown",
   "metadata": {},
   "source": [
    "# **----------LIBRARIES IMPORT----------**"
   ]
  },
  {
   "cell_type": "code",
   "execution_count": null,
   "metadata": {},
   "outputs": [],
   "source": [
    "import os\n",
    "import io\n",
    "import numpy as np\n",
    "import pandas as pd\n",
    "import xml.etree.ElementTree as ET\n",
    "import json\n",
    "import cv2\n",
    "import requests\n",
    "from PIL import Image\n",
    "import matplotlib.pyplot as plt\n",
    "import albumentations as A\n",
    "from albumentations.pytorch import ToTensorV2\n",
    "import torch\n",
    "from torch.utils.data import Dataset, DataLoader\n",
    "import tensorflow as tf"
   ]
  },
  {
   "cell_type": "markdown",
   "metadata": {},
   "source": [
    "# **---------- IMAGE READING ----------**"
   ]
  },
  {
   "cell_type": "markdown",
   "metadata": {},
   "source": [
    "1. **Function Parameters**\n",
    "    * `image_path` : address tempat gambar\n",
    "    * `target_size` : dimensi gambar output yang diinginkan\n",
    "    * `url` : link gambar"
   ]
  },
  {
   "cell_type": "code",
   "execution_count": null,
   "metadata": {},
   "outputs": [],
   "source": [
    "def read_image_from_path(image_path, target_size=None):\n",
    "    \n",
    "    # Membaca gambar dari path\n",
    "    img = cv2.imread(image_path)\n",
    "    \n",
    "    # Jika gambar tidak ditemukan, raise error\n",
    "    if img is None:\n",
    "        raise ValueError(f\"Image not found at : {image_path}\")\n",
    "    \n",
    "    # Mengubah format warna dari BGR ke RGB\n",
    "    # OpenCV membaca gambar dalam format BGR, sedangkan kita ingin RGB\n",
    "    img = cv2.cvtColor(img, cv2.COLOR_BGR2RGB)\n",
    "    \n",
    "    # Mengubah ukuran gambar jika target_size diberikan\n",
    "    if target_size is not None:\n",
    "        img = cv2.resize(img, target_size, interpolation=cv2.INTER_LINEAR)\n",
    "    return img"
   ]
  },
  {
   "cell_type": "code",
   "execution_count": null,
   "metadata": {},
   "outputs": [],
   "source": [
    "def read_image_from_url(url, target_size=None):\n",
    "    \n",
    "    # Mengambil gambar dari URL\n",
    "    response = requests.get(url)\n",
    "    \n",
    "    # Jika tidak berhasil, raise error\n",
    "    if response.status_code != 200:\n",
    "        raise ValueError(f\"Could not fetch image fron URL : {url}\")\n",
    "    \n",
    "    # Membaca gambar dari response content\n",
    "    # Menggunakan PIL untuk membaca gambar dari bytes\n",
    "    img = np.array(Image.open(io.BytesIO(response.content)))\n",
    "\n",
    "    # Mengubah format warna dari BGR ke RGB\n",
    "    # OpenCV membaca gambar dalam format BGR, sedangkan kita ingin RGB\n",
    "    img = cv2.cvtColor(img, cv2.COLOR_BGR2RGB)\n",
    "    \n",
    "    # Mengubah ukuran gambar jika target_size diberikan\n",
    "    if target_size is not None:\n",
    "        img = cv2.resize(img, target_size, interpolation=cv2.INTER_LINEAR)\n",
    "    return img"
   ]
  },
  {
   "cell_type": "markdown",
   "metadata": {},
   "source": [
    "* `response.content` : berisi raw image bytes\n",
    "* `io.BytesIO` : mengubah bytes menjadi file-like\n",
    "* `Image.open()` : membaca image (PIL)"
   ]
  },
  {
   "cell_type": "markdown",
   "metadata": {},
   "source": [
    "# **---------- IMAGE DISPLAY ----------**"
   ]
  },
  {
   "cell_type": "code",
   "execution_count": null,
   "metadata": {},
   "outputs": [],
   "source": [
    "def display_image(image, title=None, cols=1, rows=1, figsize=(10, 10)):\n",
    "    \n",
    "    # Fungsi untuk menampilkan gambar menggunakan matplotlib\n",
    "    plt.figure(figsize=figsize)      \n",
    "    plt.subplots_adjust(wspace=0.1, hspace=0.1)\n",
    "    \n",
    "    for i, img in enumerate(image):\n",
    "        plt.subplot(rows, cols, i + 1)\n",
    "        plt.imshow(img)\n",
    "        if title:\n",
    "            plt.title(title[i])\n",
    "        plt.axis('off')\n",
    "    \n",
    "    plt.tight_layout()\n",
    "    plt.show()"
   ]
  },
  {
   "cell_type": "markdown",
   "metadata": {},
   "source": [
    "# **---------- ANNOTATION PARSING ----------**"
   ]
  },
  {
   "cell_type": "code",
   "execution_count": null,
   "metadata": {},
   "outputs": [],
   "source": [
    "def parse_csv_annotation(csv_path, image_dir):\n",
    "    \n",
    "    # Membaca file CSV berisi anotasi\n",
    "    df = pd.read_csv(csv_path)\n",
    "    \n",
    "    annotations = []\n",
    "    \n",
    "    for _, row in df.iterrows():\n",
    "        annotation = {\n",
    "            'image_path': os.path.join(image_dir, row['filename']) if image_dir else row['filename'],\n",
    "            'label': row['class_name'] if 'class_name' in row.keys() else row['label'],\n",
    "        }\n",
    "        \n",
    "        # Check bounding box\n",
    "        if all(x in row for x in ['x_min', 'y_min', 'x_max', 'y_max']):\n",
    "            annotation['bbox'] = [row['x_min'], row['y_min'], row['x_max'], row['y_max']]\n",
    "        \n",
    "        annotations.append(annotation)\n",
    "    \n",
    "    return annotations"
   ]
  },
  {
   "cell_type": "code",
   "execution_count": null,
   "metadata": {},
   "outputs": [],
   "source": [
    "def parse_json_annotations(json_path, image_dir=None):\n",
    "    \n",
    "    # \n",
    "    with open(json_path, 'r') as f:\n",
    "        data = json.load(f)\n",
    "    \n",
    "    # \n",
    "    id_to_filename = {}\n",
    "    for image in data['images']:\n",
    "        id_to_filename[image['id']] = image['file_name']\n",
    "    \n",
    "    # \n",
    "    id_to_category = {}\n",
    "    for category in data['categories']:\n",
    "        id_to_category[category['id']] = category['name']\n",
    "    \n",
    "    # \n",
    "    annotations_by_image = {}\n",
    "    for ann in data['annotations']:\n",
    "        image_id = ann['image_id']\n",
    "        if image_id not in annotations_by_image:\n",
    "            annotations_by_image[image_id] = []\n",
    "        \n",
    "        annotations_by_image[image_id].append({\n",
    "            'category_id': ann['category_id'],\n",
    "            'category_name': id_to_category[ann['category_id']],\n",
    "            'bbox': ann['bbox'],  # [x, y, width, height] format\n",
    "            'segmentation': ann.get('segmentation', None),\n",
    "            'area': ann.get('area', None),\n",
    "            'iscrowd': ann.get('iscrowd', 0)\n",
    "        })\n",
    "    \n",
    "    # \n",
    "    result = []\n",
    "    for image_id, anns in annotations_by_image.items():\n",
    "        filename = id_to_filename[image_id]\n",
    "        result.append({\n",
    "            'image_id': image_id,\n",
    "            'image_path': os.path.join(image_dir, filename) if image_dir else filename,\n",
    "            'annotations': anns\n",
    "        })\n",
    "    \n",
    "    return result"
   ]
  },
  {
   "cell_type": "code",
   "execution_count": null,
   "metadata": {},
   "outputs": [],
   "source": [
    "def parse_voc_xml(xml_path, image_dir=None):\n",
    "\n",
    "    tree = ET.parse(xml_path)\n",
    "    root = tree.getroot()\n",
    "    \n",
    "    filename = root.find('filename').text\n",
    "    size = root.find('size')\n",
    "    width = int(size.find('width').text)\n",
    "    height = int(size.find('height').text)\n",
    "    depth = int(size.find('depth').text)\n",
    "    \n",
    "    objects = []\n",
    "    for obj in root.findall('object'):\n",
    "        name = obj.find('name').text\n",
    "        difficult = int(obj.find('difficult').text) if obj.find('difficult') is not None else 0\n",
    "        \n",
    "        bbox = obj.find('bndbox')\n",
    "        xmin = float(bbox.find('xmin').text)\n",
    "        ymin = float(bbox.find('ymin').text)\n",
    "        xmax = float(bbox.find('xmax').text)\n",
    "        ymax = float(bbox.find('ymax').text)\n",
    "        \n",
    "        objects.append({\n",
    "            'name': name,\n",
    "            'difficult': difficult,\n",
    "            'bbox': [xmin, ymin, xmax, ymax]\n",
    "        })\n",
    "    \n",
    "    return {\n",
    "        'filename': filename,\n",
    "        'image_path': os.path.join(image_dir, filename) if image_dir else filename,\n",
    "        'width': width,\n",
    "        'height': height,\n",
    "        'depth': depth,\n",
    "        'objects': objects\n",
    "    }"
   ]
  },
  {
   "cell_type": "markdown",
   "metadata": {},
   "source": [
    "# **---------- AUGMENTATION ----------**"
   ]
  },
  {
   "cell_type": "code",
   "execution_count": null,
   "metadata": {},
   "outputs": [],
   "source": [
    "def basic_augmentation(height=224, width=224, mean=[0.485, 0.456, 0.406], std=[0.229, 0.224, 0.225]):\n",
    "    return A.compose([\n",
    "        A.Resize(height=height, width=width),\n",
    "        A.Normalize(mean=mean, \n",
    "                    std = std)\n",
    "    ])"
   ]
  },
  {
   "cell_type": "code",
   "execution_count": null,
   "metadata": {},
   "outputs": [],
   "source": [
    "def train_transform(height=224, width=22, mean=[0.485, 0.456, 0.406], std=[0.229, 0.224, 0.225], hflip_chance=0.5, random_brightness_chance=0.2, \n",
    "                    shift_limit=0.05, scale_limit=0.05, rotate_limit=15, shift_scale_rotate_chance=0.3,\n",
    "                    r_shift_limit=15, g_shift_limit=15, b_shift_limit=15, rgb_shift_chance=0.3):\n",
    "    return A.compose([\n",
    "        A.Resize(height=height, width=width),\n",
    "        A.Normalize(mean= mean, \n",
    "                    std = std),\n",
    "        A.HorizontalFlip(p=hflip_chance),\n",
    "        A.RandomBrightnessContrast(p=random_brightness_chance),\n",
    "        A.ShiftScaleRotate(shift_limit=shift_limit, scale_limit=scale_limit, \n",
    "                           rotate_limit=rotate_limit, p=shift_scale_rotate_chance),\n",
    "        A.RGBShift(r_shift_limit=r_shift_limit, g_shift_limit=g_shift_limit, b_shift_limit=b_shift_limit, \n",
    "                   p=rgb_shift_chance),\n",
    "        ToTensorV2(),\n",
    "    ])"
   ]
  }
 ],
 "metadata": {
  "kernelspec": {
   "display_name": "Python 3",
   "language": "python",
   "name": "python3"
  },
  "language_info": {
   "name": "python",
   "version": "3.12.0"
  }
 },
 "nbformat": 4,
 "nbformat_minor": 2
}
