{
 "cells": [
  {
   "cell_type": "markdown",
   "id": "97390946",
   "metadata": {},
   "source": [
    "## **---------- CONVOLUTIONAL ----------**"
   ]
  },
  {
   "cell_type": "markdown",
   "id": "3441c7dc",
   "metadata": {},
   "source": [
    "1. **Function Parameters** \n",
    "    * `X` : shape input (batch_size, in_channels, height, width). \n",
    "    * `W` : Firter (kernels) dengan shape (out_channels, in_channels, kernel_h, kernel_w)\n",
    "    * `b` : Bias (out_channels,) (one per output channel).\n",
    "    * `stride` : Pergeseran kernel (default: 1).\n",
    "    * `padding`: Pixels di pinggiran border (default: 0)."
   ]
  },
  {
   "cell_type": "code",
   "execution_count": null,
   "id": "4db5d87f",
   "metadata": {},
   "outputs": [],
   "source": [
    "import numpy as np\n",
    "\n",
    "def conv2d(X, W, b, stride=1, padding=0):\n",
    "    batch_size, in_channels, in_h, in_w = X.shape\n",
    "    out_channels, _, kernel_h, kernel_w = W.shape\n",
    "    \n",
    "    # Dimensi Output\n",
    "    out_h = (in_h - kernel_h + 2 * padding) // stride + 1\n",
    "    out_w = (in_w - kernel_w + 2 * padding) // stride + 1\n",
    "    \n",
    "    # Padding jika diperlukan\n",
    "    if padding > 0:\n",
    "        X_padded = np.pad(X, ((0, 0), (0, 0), (padding, padding), (padding, padding)), mode='constant')\n",
    "    else:\n",
    "        X_padded = X\n",
    "        \n",
    "    # Inisialisasi output\n",
    "    output = np.zeros((batch_size, out_channels, out_h, out_w))\n",
    "    \n",
    "    # Konvolusi\n",
    "    for i in range(batch_size):\n",
    "        for j in range(out_channels):\n",
    "            for k in range(out_h):\n",
    "                for l in range(out_w):\n",
    "                    h_start = k * stride\n",
    "                    h_end = h_start + kernel_h\n",
    "                    \n",
    "                    w_start = l * stride\n",
    "                    w_end = w_start + kernel_w\n",
    "                    \n",
    "                    # Menghitung output\n",
    "                    output[i, j, k, l] = np.sum(X_padded[i, :, h_start:h_end, w_start:w_end] * W[j]) + b[j]\n",
    "    \n",
    "    return output"
   ]
  },
  {
   "cell_type": "markdown",
   "id": "c1fe4855",
   "metadata": {},
   "source": [
    "## **---------- MAX POOLING ----------**"
   ]
  },
  {
   "cell_type": "code",
   "execution_count": null,
   "id": "ab786fa2",
   "metadata": {},
   "outputs": [],
   "source": [
    "def max_pool2d(X, pool_size=2, stride=2):\n",
    "\n",
    "    batch_size, channels, in_h, in_w = X.shape\n",
    "    \n",
    "    # Kalkulasi dimensi output\n",
    "    # Menghitung dimensi output setelah max pooling\n",
    "    out_h = (in_h - pool_size) // stride + 1\n",
    "    out_w = (in_w - pool_size) // stride + 1\n",
    "    \n",
    "    # Inisialisasi output\n",
    "    # Membuat array output dengan dimensi yang sesuai\n",
    "    output = np.zeros((batch_size, channels, out_h, out_w))\n",
    "    \n",
    "    # Proses max pooling\n",
    "    # Melakukan max pooling pada setiap batch, channel, dan posisi output\n",
    "    for i in range(batch_size):\n",
    "        for c in range(channels): \n",
    "            for h in range(out_h):\n",
    "                for w in range(out_w):\n",
    "                    h_start = h * stride\n",
    "                    h_end = h_start + pool_size\n",
    "                    w_start = w * stride\n",
    "                    w_end = w_start + pool_size\n",
    "                    \n",
    "                    output[i, c, h, w] = np.max(\n",
    "                        X[i, c, h_start:h_end, w_start:w_end]\n",
    "                    )\n",
    "    \n",
    "    return output"
   ]
  }
 ],
 "metadata": {
  "kernelspec": {
   "display_name": "Python 3",
   "language": "python",
   "name": "python3"
  },
  "language_info": {
   "name": "python",
   "version": "3.12.0"
  }
 },
 "nbformat": 4,
 "nbformat_minor": 5
}
